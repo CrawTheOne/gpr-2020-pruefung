{
 "cells": [
  {
   "cell_type": "markdown",
   "id": "e011343a-ba09-457e-acf0-1778d2ad95c4",
   "metadata": {
    "tags": []
   },
   "source": [
    "### GPR Prüfung"
   ]
  },
  {
   "cell_type": "markdown",
   "id": "b9616dbc-ef31-4dd4-9232-4e658d6e3710",
   "metadata": {},
   "source": [
    "#### Aufgabe 1"
   ]
  },
  {
   "cell_type": "code",
   "execution_count": 200,
   "id": "402a66fd-82a9-4b5f-87a1-9dde5713b9d6",
   "metadata": {},
   "outputs": [
    {
     "name": "stdout",
     "output_type": "stream",
     "text": [
      "3 5\n"
     ]
    }
   ],
   "source": [
    "# a)\n",
    "s = 0\n",
    "sq = 0\n",
    "for i in range(3):\n",
    "    s, sq = s + i, sq + i * i\n",
    "    #print(i)\n",
    "print(s, sq)\n",
    "\n",
    "#2 (previous iteration changes value of s), 5"
   ]
  },
  {
   "cell_type": "code",
   "execution_count": 5,
   "id": "5bd1858a-8a31-4fe3-9a50-09ecca0da205",
   "metadata": {},
   "outputs": [
    {
     "name": "stdout",
     "output_type": "stream",
     "text": [
      "1 2 2\n"
     ]
    }
   ],
   "source": [
    "# b)\n",
    "def fun(a, b, c):\n",
    "    a = b + c\n",
    "    b = 0\n",
    "    return a - c\n",
    "\n",
    "a, b, c = 1, 2, 3\n",
    "c = fun(a, b, c)\n",
    "print(a, b, c)\n",
    "\n",
    "#1, 2, 2"
   ]
  },
  {
   "cell_type": "code",
   "execution_count": 10,
   "id": "3a5ab537-52f7-441a-a1ce-b5795778aa27",
   "metadata": {},
   "outputs": [
    {
     "name": "stdout",
     "output_type": "stream",
     "text": [
      "[[1, 2, 3], [4, 5], [6, 1]]\n",
      "[0, 5]\n",
      "[[0, 5], [6, 1]]\n"
     ]
    }
   ],
   "source": [
    "# c)\n",
    "lst = [[1, 2, 3], [4, 5], [6]]\n",
    "lst[2].append(len(lst[-1]))\n",
    "print(lst)\n",
    "\n",
    "l2 = lst[1]\n",
    "l2[0] = 0\n",
    "del lst[0]\n",
    "print(l2)\n",
    "\n",
    "print(lst)\n",
    "\n",
    "#[[1, 2, 3], [4, 5], [6, 3]] ( got [-1] confused, take my time in future)\n",
    "#[0, 5]\n",
    "#[[0, 5], [6, 1]]"
   ]
  },
  {
   "cell_type": "code",
   "execution_count": 11,
   "id": "2696fde8-8c82-433d-8f2c-5cb8fe295c61",
   "metadata": {},
   "outputs": [
    {
     "name": "stdout",
     "output_type": "stream",
     "text": [
      "False\n",
      "True\n"
     ]
    }
   ],
   "source": [
    "# d)\n",
    "x = 5 ** 2 + 1\n",
    "print(x < 20 or x > 30)\n",
    "\n",
    "print((x < 20) == (x > 30))\n",
    "\n",
    "#False\n",
    "#True"
   ]
  },
  {
   "cell_type": "markdown",
   "id": "ac17a364-2526-4070-8367-4f8ccf8ef02e",
   "metadata": {},
   "source": [
    "#### Aufgabe 2"
   ]
  },
  {
   "cell_type": "code",
   "execution_count": 12,
   "id": "321f114b-6e2f-43be-845c-b3e522655a33",
   "metadata": {},
   "outputs": [
    {
     "name": "stdout",
     "output_type": "stream",
     "text": [
      "[0, 3]\n",
      "[0, 3]\n"
     ]
    }
   ],
   "source": [
    "# a)\n",
    "n = 5\n",
    "lst = []\n",
    "for x in range(n):\n",
    "    if x % 3 == 0:\n",
    "        lst.append(x)\n",
    "print(lst)\n",
    "\n",
    "#make comprehension\n",
    "lst = [x for x in range(n) if x % 3 == 0]\n",
    "print(lst)"
   ]
  },
  {
   "cell_type": "code",
   "execution_count": 16,
   "id": "dd63ecbc-afcb-45ac-ab83-7eef02839686",
   "metadata": {},
   "outputs": [
    {
     "name": "stdout",
     "output_type": "stream",
     "text": [
      "[0, 1, 8, 27, 64]\n",
      "[0, 1, 8, 27, 64]\n"
     ]
    }
   ],
   "source": [
    "# b)\n",
    "n = 5\n",
    "lst = []\n",
    "for x in range(n):\n",
    "    lst.append(x ** 3)\n",
    "print(lst)\n",
    "\n",
    "#make comprehension\n",
    "lst = [x ** 3 for x in range(n)]\n",
    "print(lst)"
   ]
  },
  {
   "cell_type": "markdown",
   "id": "cf28bcfe-1393-4635-ac97-e52b3a304ab9",
   "metadata": {},
   "source": [
    "#### Aufgabe 3"
   ]
  },
  {
   "cell_type": "code",
   "execution_count": 20,
   "id": "04679c71-ec50-48ff-b5ae-89262fc18157",
   "metadata": {},
   "outputs": [
    {
     "data": {
      "text/plain": [
       "True"
      ]
     },
     "execution_count": 20,
     "metadata": {},
     "output_type": "execute_result"
    }
   ],
   "source": [
    "#function check if number is prime\n",
    "#already a \"given\"\n",
    "def is_prime(n):\n",
    "    if n == 1:\n",
    "        return False\n",
    "    elif n == 2:\n",
    "        return True\n",
    "    else:\n",
    "        for i in range(2,n):\n",
    "            if n%i == 0:\n",
    "                return False\n",
    "        return True\n",
    "    \n",
    "is_prime(11)"
   ]
  },
  {
   "cell_type": "code",
   "execution_count": 43,
   "id": "acb7c907-bdc0-4b5d-ba20-5d0c89cb2f59",
   "metadata": {},
   "outputs": [
    {
     "data": {
      "text/plain": [
       "11"
      ]
     },
     "execution_count": 43,
     "metadata": {},
     "output_type": "execute_result"
    }
   ],
   "source": [
    "# a)\n",
    "#given n return the next closest prime number\n",
    "\n",
    "def next_prime(n):\n",
    "    for i in range(1, n**2):\n",
    "        #print(i)\n",
    "        if is_prime(n + i) == True: \n",
    "            return n + i\n",
    "            break\n",
    "        \n",
    "next_prime(8)"
   ]
  },
  {
   "cell_type": "code",
   "execution_count": 95,
   "id": "f31fecac-37bf-449e-b9f6-01b7034aaa99",
   "metadata": {},
   "outputs": [],
   "source": [
    "# b)\n",
    "#extract pair of adjacent prime numbers with minimum distance dist. If no pair then None\n",
    "\n",
    "def prime_dist(start, dist):\n",
    "    for i in range(start**2):\n",
    "        #print(i)\n",
    "        if is_prime(start + i) == True: \n",
    "            prime_start = start + i\n",
    "            break\n",
    "            \n",
    "    while next_prime(prime_start) - prime_start < dist:\n",
    "        prime_start = next_prime(prime_start)\n",
    "        #print(prime_start)\n",
    "        \n",
    "        if 10*start > next_prime(prime_start):\n",
    "            pass\n",
    "\n",
    "        else:\n",
    "            return None\n",
    "        \n",
    "    return prime_start, next_prime(prime_start)\n",
    "\n",
    "prime_dist(1000, 100)"
   ]
  },
  {
   "cell_type": "markdown",
   "id": "5e9ccc7a-6bbc-4c90-bd2d-3b89efda9177",
   "metadata": {
    "tags": []
   },
   "source": [
    "#### Aufgabe 4"
   ]
  },
  {
   "cell_type": "code",
   "execution_count": 161,
   "id": "643c3348-b7f6-4e17-8cd2-1a62392764be",
   "metadata": {},
   "outputs": [],
   "source": [
    "# a)\n",
    "#game of life\n",
    "\n",
    "#lateral (not horizontal) neighbours checks\n",
    "#exactly 2 neighbours create alive between\n",
    "#alive with less then 2 dies\n",
    "#alive with 2 or 3 stays alive\n",
    "#alive with more than 3 dies\n",
    "\n",
    "grid = ['..........','.###.##...','.....##...','.......##.','.......##.','..........']"
   ]
  },
  {
   "cell_type": "code",
   "execution_count": 162,
   "id": "d0559ec6-b277-4a44-8332-b4dbfdac890d",
   "metadata": {},
   "outputs": [
    {
     "data": {
      "text/plain": [
       "2"
      ]
     },
     "execution_count": 162,
     "metadata": {},
     "output_type": "execute_result"
    }
   ],
   "source": [
    "def living_neighbours(grid, row, col):\n",
    "    grid = grid.copy()\n",
    "    living_neighbors_count = 0\n",
    "\n",
    "    if (col + 1) < len(grid[row]) and grid[row][col + 1] == '#':\n",
    "        living_neighbors_count += 1\n",
    "      \n",
    "    if (col - 1) >= 0 and grid[row][col - 1] == '#':\n",
    "        living_neighbors_count += 1\n",
    "\n",
    "    if (row + 1) < len(grid) and grid[row + 1][col] == '#':\n",
    "        living_neighbors_count += 1\n",
    "\n",
    "    if (row - 1) >= 0 and grid[row - 1][col] == '#':\n",
    "        living_neighbors_count += 1\n",
    "    \n",
    "    return living_neighbors_count\n",
    "\n",
    "living_neighbours(grid, 3, 7)"
   ]
  },
  {
   "cell_type": "code",
   "execution_count": 195,
   "id": "13df42a2-211c-4c94-bd76-6e90264f6416",
   "metadata": {},
   "outputs": [],
   "source": [
    "grid = ['..........','.###.##...','.....##...','.......##.','.......##.','..........']"
   ]
  },
  {
   "cell_type": "code",
   "execution_count": 198,
   "id": "c23d5f21-2790-4344-a9cb-4d6a2843fd34",
   "metadata": {},
   "outputs": [
    {
     "data": {
      "text/plain": [
       "['..........',\n",
       " '..#.###...',\n",
       " '.....###..',\n",
       " '......###.',\n",
       " '.......##.',\n",
       " '..........']"
      ]
     },
     "execution_count": 198,
     "metadata": {},
     "output_type": "execute_result"
    }
   ],
   "source": [
    "# b)\n",
    "def step(grid):\n",
    "    new_grid = grid.copy()\n",
    "    for i in range(len(new_grid)):\n",
    "        for j in range(len(new_grid[i])):\n",
    "            #print(i, j)\n",
    "            # is alive, less than 2 alive neighbors\n",
    "            if grid[i][j] == '#' and living_neighbours(grid, i, j) < 2:\n",
    "                new_grid[i] = new_grid[i][:j] + '.' + new_grid[i][j+1:]\n",
    "                \n",
    "            # is alive, 2 or 3 alive neighbors\n",
    "            if grid[i][j] == '#' and (living_neighbours(grid, i, j) == 2 or living_neighbours(grid, i, j) == 3):\n",
    "                new_grid[i] = new_grid[i][:j] + '#' + new_grid[i][j+1:]\n",
    "\n",
    "            # is alive, more than 3 alive neighbors\n",
    "            if grid[i][j] == '#' and living_neighbours(grid, i, j) > 3:\n",
    "                new_grid[i] = new_grid[i][:j] + '.' + new_grid[i][j+1:]\n",
    "\n",
    "            # is dead, has 2 alive neighbors\n",
    "            if grid[i][j] == '.' and living_neighbours(grid, i, j) == 2:\n",
    "                new_grid[i] = new_grid[i][:j] + '#' + new_grid[i][j+1:]\n",
    " \n",
    "    return new_grid\n",
    "\n",
    "step(grid)"
   ]
  },
  {
   "cell_type": "code",
   "execution_count": 199,
   "id": "249c99ea-434d-41ac-8be6-82900bcd907d",
   "metadata": {},
   "outputs": [
    {
     "data": {
      "text/plain": [
       "True"
      ]
     },
     "execution_count": 199,
     "metadata": {},
     "output_type": "execute_result"
    }
   ],
   "source": [
    "def is_ok(temperatur,status):\n",
    "    if temperatur >=-10 and temperatur <=45 and status == \"ok\":\n",
    "        return True\n",
    "    if temperatur == 0 and status == \"off\":\n",
    "        return True\n",
    "    if status == \"fault\":\n",
    "        return True\n",
    "    else:\n",
    "        return False\n",
    "    \n",
    "is_ok(30, 'ok')"
   ]
  },
  {
   "cell_type": "code",
   "execution_count": 233,
   "id": "72a819e5-9879-409b-a30b-5bd99fa4b057",
   "metadata": {},
   "outputs": [],
   "source": [
    "text = open('iot.txt').read()"
   ]
  },
  {
   "cell_type": "code",
   "execution_count": 234,
   "id": "852dd2bb-0e06-4e69-9cfa-2d611263b8c9",
   "metadata": {},
   "outputs": [
    {
     "data": {
      "text/plain": [
       "'21'"
      ]
     },
     "execution_count": 234,
     "metadata": {},
     "output_type": "execute_result"
    }
   ],
   "source": [
    "text.split('\\n')[0].split(',')[-2]"
   ]
  },
  {
   "cell_type": "code",
   "execution_count": 243,
   "id": "d43881b3-f744-472d-998f-6e7435f0cbc1",
   "metadata": {},
   "outputs": [
    {
     "data": {
      "text/plain": [
       "3"
      ]
     },
     "execution_count": 243,
     "metadata": {},
     "output_type": "execute_result"
    }
   ],
   "source": [
    "def count_errors(file_name):\n",
    "    text = open(str(file_name)).read()\n",
    "    \n",
    "    splitted = text.split('\\n')\n",
    "    errors = 0\n",
    "    for i in range(len(splitted)):\n",
    "        if is_ok(float(splitted[i].split(',')[-2]), splitted[i].split(',')[-1]) == False:\n",
    "            errors += 1\n",
    "        \n",
    "    return errors\n",
    "\n",
    "count_errors('iot.txt')"
   ]
  },
  {
   "cell_type": "code",
   "execution_count": 246,
   "id": "041885ee-c566-4ec6-b13b-636bb24155a1",
   "metadata": {},
   "outputs": [
    {
     "data": {
      "text/plain": [
       "6"
      ]
     },
     "execution_count": 246,
     "metadata": {},
     "output_type": "execute_result"
    }
   ],
   "source": [
    "def count_errors_mult(file_names):\n",
    "    for i in file_names:\n",
    "        e = count_errors(i)\n",
    "        e += e\n",
    "    \n",
    "    return e    \n",
    "        \n",
    "file_names = ['iot.txt', 'iot.txt']\n",
    "count_errors_mult(file_names)"
   ]
  }
 ],
 "metadata": {
  "kernelspec": {
   "display_name": "Python 3 (ipykernel)",
   "language": "python",
   "name": "python3"
  },
  "language_info": {
   "codemirror_mode": {
    "name": "ipython",
    "version": 3
   },
   "file_extension": ".py",
   "mimetype": "text/x-python",
   "name": "python",
   "nbconvert_exporter": "python",
   "pygments_lexer": "ipython3",
   "version": "3.9.7"
  }
 },
 "nbformat": 4,
 "nbformat_minor": 5
}
